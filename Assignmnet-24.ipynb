{
 "cells": [
  {
   "cell_type": "raw",
   "id": "c1315338",
   "metadata": {},
   "source": [
    "1. What is the relationship between def statements and lambda expressions ?\n",
    "ANS-->\n",
    "keyword def use to define function header. A function name to uniquely identify the function\n",
    "lambda are one-line methods withoud a name or we can say anonymous function,\n",
    "They work practically the same as any other method in Python Lambdas differ from normal Python\n",
    "methods because they can have only one expression, can't contain any \n",
    "statements and their return type is a function object"
   ]
  },
  {
   "cell_type": "raw",
   "id": "5236fa3b",
   "metadata": {},
   "source": [
    "2. What is the benefit of lambda?\n",
    "ANS-->\n",
    "Lambda functions are inline functions and thus execute comparatively faster Many times lambda functions make code much more readable by avoiding the logical jumps caused by function calls"
   ]
  },
  {
   "cell_type": "raw",
   "id": "7dda309e",
   "metadata": {},
   "source": [
    "3. Compare and contrast map, filter, and reduce.\n",
    "ANS-->\n",
    "map applies as a transformation to an element.\n",
    "The map() function iterates through all items in the given iterable and executes the function we passed as an argument on each of them. Syntax : map(function, iterable(s))\n",
    "\n",
    "filter accumulates only elements matching a condition.\n",
    "filter() forms a new list that contains only elements that satisfy a certain condition, i.e. the function we passed returns True Syntax : filter(function, iterable(s))\n",
    "\n",
    "reduce accumulates all elements to a single value, by using immutable values\n",
    "reduce() works by calling the function we passed for the first two items in the sequence. The result returned by the function is used in another call to function alongside with the next (third in this case), element Syntax : reduce(function, sequence[, initial])"
   ]
  },
  {
   "cell_type": "raw",
   "id": "a0e4dd37",
   "metadata": {},
   "source": [
    "4. What are function annotations, and how are they used?\n",
    "ANS-->\n",
    " Function annotation is the standard way to access the metadata with the arguments and the return value of the function.\n",
    "These are nothing but some random and optional Python expressions that get allied to different parts of the function. They get evaluated only during the compile-time and have no significance during the run-time of the code. They do not have any significance or meaning associated with them until accessed by some third-party libraries. They are used to type check the functions by declaring the type of the parameters and the return value for the functions. The string-based annotations help us to improve the help messages.\n",
    "\n",
    "Syntax :\n",
    "\n",
    "def func(a: 'int') -> 'int':\n",
    "pass\n",
    "Annotations for simple parameters:\n",
    "\n",
    "def func(x: 'float'=10.8, y: 'argument2'):\n",
    "In the above code the argument, ‘x’ of the function func, has been annotated to float data type and the argument ‘y’ has a string-based annotation. The argument can also be assigned to a default value using a ‘=’ symbol followed by the default value. These default values are optional to the code.\n",
    "Annotations for return values:\n",
    "\n",
    "def func(a: expression) -> 'int':\n",
    "The annotations for the return value is written after the ‘->’ symbol."
   ]
  },
  {
   "cell_type": "code",
   "execution_count": 1,
   "id": "750fc5e1",
   "metadata": {},
   "outputs": [
    {
     "name": "stdout",
     "output_type": "stream",
     "text": [
      "{'n': 'float', 'b': 'int', 'return': 'result'}\n"
     ]
    }
   ],
   "source": [
    "def fib(n:'float', b:'int')-> 'result': \n",
    "    pass\n",
    "print(fib.__annotations__)"
   ]
  },
  {
   "cell_type": "raw",
   "id": "18b4fdc4",
   "metadata": {},
   "source": [
    "5. What are recursive functions, and how are they used?\n",
    "ANS-->\n",
    "A recursive function is a function that calls itself during its execution.\n",
    "This means that the function will continue to call itself and repeat its behavior until some condition is met to return a result"
   ]
  },
  {
   "cell_type": "code",
   "execution_count": 2,
   "id": "7af81fa6",
   "metadata": {},
   "outputs": [
    {
     "data": {
      "text/plain": [
       "6"
      ]
     },
     "execution_count": 2,
     "metadata": {},
     "output_type": "execute_result"
    }
   ],
   "source": [
    "def factorial(n):\n",
    "    if n == 1:\n",
    "        return 1\n",
    "    else:\n",
    "        return n * factorial(n-1)  # recursion\n",
    "factorial(3)"
   ]
  },
  {
   "cell_type": "raw",
   "id": "32ac4019",
   "metadata": {},
   "source": [
    "6. What are some general design guidelines for coding functions?\n",
    "ANS-->\n",
    "1.Use 4-space indentation and no tabs.\n",
    "2.Use docstrings\n",
    "3.Wrap linethat they don’t exceed 79 characters\n",
    "4.Use of regular and updated comments are valuable to both the coders and users\n",
    "5.Use of trailing commas : in case of tuple -> ('good',)\n",
    "6.Use Python’s default UTF-8 or ASCII encodings and not any fancy encodings\n",
    "7.Naming Conventions\n",
    "8.Characters that should not be used for identifiers : ‘l’ (lowercase letter el), ‘O’ (uppercase letter oh), ‘I’ (uppercase letter eye) as single character variable names as these are similar to the numerals one and zero.\n",
    "9. Don’t use non-ASCII characters in identifier\n",
    "10. Name your classes and functions consistently \n",
    "11. While naming of function of methods always use self for the first argument"
   ]
  },
  {
   "cell_type": "raw",
   "id": "5a0187ea",
   "metadata": {},
   "source": [
    "7. Name three or more ways that functions can communicate results to a caller.\n",
    "ANS-->\n",
    "1.Function can return single value\n",
    "2.Can return multiple values, tuple\n",
    "3.can return list,dictionary\n",
    "4.can return function object\n",
    "5.can return class object"
   ]
  }
 ],
 "metadata": {
  "kernelspec": {
   "display_name": "Python 3 (ipykernel)",
   "language": "python",
   "name": "python3"
  },
  "language_info": {
   "codemirror_mode": {
    "name": "ipython",
    "version": 3
   },
   "file_extension": ".py",
   "mimetype": "text/x-python",
   "name": "python",
   "nbconvert_exporter": "python",
   "pygments_lexer": "ipython3",
   "version": "3.9.13"
  }
 },
 "nbformat": 4,
 "nbformat_minor": 5
}
