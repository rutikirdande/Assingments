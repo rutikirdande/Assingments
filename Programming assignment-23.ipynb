{
 "cells": [
  {
   "cell_type": "code",
   "execution_count": 44,
   "id": "316eaaa3",
   "metadata": {},
   "outputs": [
    {
     "data": {
      "text/plain": [
       "False"
      ]
     },
     "execution_count": 44,
     "metadata": {},
     "output_type": "execute_result"
    }
   ],
   "source": [
    "# Question 1\n",
    "# Create a function that takes a number as an argument and returns True or False depending\n",
    "# on whether the number is symmetrical or not. A number is symmetrical when it is the same as\n",
    "# its reverse.\n",
    "# ANS-->\n",
    "def is_symmetrical(num):\n",
    "    return str(num)==str(num)[::-1]\n",
    "\n",
    "is_symmetrical(6227)       "
   ]
  },
  {
   "cell_type": "code",
   "execution_count": 68,
   "id": "d8263568",
   "metadata": {},
   "outputs": [
    {
     "name": "stdout",
     "output_type": "stream",
     "text": [
      "1\n",
      "16\n",
      "81\n"
     ]
    }
   ],
   "source": [
    "# Question 2\n",
    "# Given a string of numbers separated by a comma and space, return the product of the\n",
    "# numbers.\n",
    "# ANS-->\n",
    "def multiply_nums(tuple):\n",
    "    for i in tuple:\n",
    "        i=i*i\n",
    "        print(i)\n",
    "    \n",
    "multiply_nums((1,2,3))"
   ]
  },
  {
   "cell_type": "code",
   "execution_count": 24,
   "id": "e0ac3552",
   "metadata": {},
   "outputs": [
    {
     "data": {
      "text/plain": [
       "811181"
      ]
     },
     "execution_count": 24,
     "metadata": {},
     "output_type": "execute_result"
    }
   ],
   "source": [
    "# Question 3\n",
    "# Create a function that squares every digit of a number.\n",
    "# ANS-->\n",
    "\n",
    "def square_digits(num):\n",
    "    r = ''\n",
    "    for i in str(num):\n",
    "        r = r +str((int(i))**2)\n",
    "    return int(r)\n",
    "\n",
    "square_digits(9119)"
   ]
  },
  {
   "cell_type": "code",
   "execution_count": 79,
   "id": "e32bee5a",
   "metadata": {},
   "outputs": [
    {
     "name": "stdout",
     "output_type": "stream",
     "text": [
      "[1, 2, 3, 4, 5]\n"
     ]
    }
   ],
   "source": [
    "# Question 4\n",
    "# Create a function that sorts a list and removes all duplicate items from it.\n",
    "# ANS-->\n",
    "list1=[]\n",
    "def setify(list):\n",
    "    list.sort()\n",
    "    for i in list:\n",
    "        if i not in list1:\n",
    "            list1.append(i)\n",
    "    print(list1)\n",
    "        \n",
    "setify([1,2,3,3,5,5,4,4])"
   ]
  },
  {
   "cell_type": "code",
   "execution_count": 91,
   "id": "2a031707",
   "metadata": {},
   "outputs": [
    {
     "name": "stdout",
     "output_type": "stream",
     "text": [
      "3.0\n",
      "3.0\n",
      "6.0\n"
     ]
    }
   ],
   "source": [
    "# Question 5\n",
    "# Create a function that returns the mean of all digits.\n",
    "# ANS-->\n",
    "def mean(num):\n",
    "    count=0\n",
    "    digits=[]\n",
    "    while num>0:\n",
    "        digits.append(num%10)\n",
    "        count=count+1\n",
    "        num=(num-num%10)//10\n",
    "    print(sum(digits)/count)\n",
    "\n",
    "mean(42)\n",
    "mean(12345)\n",
    "mean(666)"
   ]
  }
 ],
 "metadata": {
  "kernelspec": {
   "display_name": "Python 3 (ipykernel)",
   "language": "python",
   "name": "python3"
  },
  "language_info": {
   "codemirror_mode": {
    "name": "ipython",
    "version": 3
   },
   "file_extension": ".py",
   "mimetype": "text/x-python",
   "name": "python",
   "nbconvert_exporter": "python",
   "pygments_lexer": "ipython3",
   "version": "3.9.13"
  }
 },
 "nbformat": 4,
 "nbformat_minor": 5
}
