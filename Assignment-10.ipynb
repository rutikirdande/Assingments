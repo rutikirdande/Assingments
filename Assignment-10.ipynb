{
 "cells": [
  {
   "cell_type": "code",
   "execution_count": 1,
   "id": "8d492919",
   "metadata": {},
   "outputs": [],
   "source": [
    "#1. How do you distinguish between shutil.copy() and shutil.copytree()?\n",
    "#ANS-->While shutil. copy() will copy a single file, shutil. copytree() will copy an entire folder and every folder and file contained in it."
   ]
  },
  {
   "cell_type": "code",
   "execution_count": 2,
   "id": "6da18588",
   "metadata": {},
   "outputs": [],
   "source": [
    "#2. What function is used to rename files??\n",
    "#ANS-->use the rename() method of the os module."
   ]
  },
  {
   "cell_type": "code",
   "execution_count": 3,
   "id": "d4231dc6",
   "metadata": {},
   "outputs": [],
   "source": [
    "#3. What is the difference between the delete functions in the send2trash and shutil modules?\n",
    "#ANS-->The send2trash functions will move a file or folder to the recycle bin, while shutil functions will permanently delete files and folders."
   ]
  },
  {
   "cell_type": "code",
   "execution_count": 4,
   "id": "f0fb0e77",
   "metadata": {},
   "outputs": [],
   "source": [
    "#4.ZipFile objects have a close() method just like File objects’ close() method. What ZipFile method is\n",
    "#equivalent to File objects’ open() method?\n",
    "#ANS-->The zipfile. ZipFile() function is equivalent to the open() function; the first argument is the filename, and the second argument is the mode to open the ZIP file in (read, write, or append)."
   ]
  },
  {
   "cell_type": "code",
   "execution_count": 2,
   "id": "91dd7f3f",
   "metadata": {},
   "outputs": [
    {
     "name": "stdout",
     "output_type": "stream",
     "text": [
      "Looking in C:\\Users\\Rutik\\spotify recommendation system for files with extensions of .mp4, .pdf, .jpg, .ipynb\n"
     ]
    }
   ],
   "source": [
    "#5. Create a programme that searches a folder tree for files with a certain file extension (such as .pdf\n",
    "# or .jpg). Copy these files from whatever location they are in to a new folder.\n",
    "#ANS-->\n",
    "\n",
    "import os, shutil\n",
    "\n",
    "def selectiveCopy(source, extensions, destFolder):\n",
    "    folder = os.path.abspath(source)\n",
    "    destFolder = os.path.abspath(destFolder)\n",
    "    print('Looking in', source, 'for files with extensions of', ', '.join(extensions))\n",
    "    for foldername, subfolders, filenames in os.walk(source):\n",
    "        for filename in filenames:\n",
    "            name, extension = os.path.splitext(filename)\n",
    "            if extension in extensions:\n",
    "                fileAbsPath = foldername + os.path.sep + filename\n",
    "                print('Coping', fileAbsPath, 'to', destFolder)\n",
    "                shutil.copy(fileAbsPath, destFolder)\n",
    "\n",
    "extensions = ['.mp4', '.pdf','.jpg','.ipynb']\n",
    "source = \"C:\\\\Users\\\\Rutik\\\\spotify recommendation system\"\n",
    "destFolder = \"C:\\\\Users\\\\Rutik\\\\dest\"\n",
    "selectiveCopy(source, extensions, destFolder)"
   ]
  },
  {
   "cell_type": "code",
   "execution_count": null,
   "id": "284f10a8",
   "metadata": {},
   "outputs": [],
   "source": []
  }
 ],
 "metadata": {
  "kernelspec": {
   "display_name": "Python 3 (ipykernel)",
   "language": "python",
   "name": "python3"
  },
  "language_info": {
   "codemirror_mode": {
    "name": "ipython",
    "version": 3
   },
   "file_extension": ".py",
   "mimetype": "text/x-python",
   "name": "python",
   "nbconvert_exporter": "python",
   "pygments_lexer": "ipython3",
   "version": "3.9.13"
  }
 },
 "nbformat": 4,
 "nbformat_minor": 5
}
