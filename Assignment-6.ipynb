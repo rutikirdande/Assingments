{
 "cells": [
  {
   "cell_type": "code",
   "execution_count": 8,
   "id": "25b862bc",
   "metadata": {},
   "outputs": [
    {
     "name": "stdout",
     "output_type": "stream",
     "text": [
      "It's alright.\n",
      "This will insert one \\ (backslash).\n",
      "Hello\n",
      "World!\n",
      "World!\n",
      "Hello\tWorld!\n",
      "Hello \bWorld!\n",
      "Hello\n",
      "Hello\n"
     ]
    }
   ],
   "source": [
    "#1. What are escape characters, and how do you use them?\n",
    "#ANS--> An escape character is a backslash \\ followed by the character you want to insert.\n",
    "test1 = 'It\\'s alright.'\n",
    "print(test1) \n",
    "\n",
    "\n",
    "test2 = \"This will insert one \\\\ (backslash).\"\n",
    "print(test2) \n",
    "\n",
    "\n",
    "test3 = \"Hello\\nWorld!\"\n",
    "print(test3) \n",
    "\n",
    "\n",
    "test4 = \"Hello\\rWorld!\"\n",
    "print(test4)\n",
    "\n",
    "\n",
    "test5 = \"Hello\\tWorld!\"\n",
    "print(test5) \n",
    "\n",
    "\n",
    "test6 = \"Hello \\bWorld!\"\n",
    "print(test6) \n",
    "\n",
    "\n",
    "test7 = \"\\110\\145\\154\\154\\157\"\n",
    "print(test7) \n",
    "\n",
    "\n",
    "test8 = \"\\x48\\x65\\x6c\\x6c\\x6f\"\n",
    "print(test8) \n"
   ]
  },
  {
   "cell_type": "code",
   "execution_count": 9,
   "id": "4b1282a4",
   "metadata": {},
   "outputs": [],
   "source": [
    "#2. What do the escape characters n and t stand for?\n",
    "#ANS-->escape charter n is stand for newline and t is stand for tab."
   ]
  },
  {
   "cell_type": "code",
   "execution_count": 11,
   "id": "4eb667e4",
   "metadata": {},
   "outputs": [
    {
     "name": "stdout",
     "output_type": "stream",
     "text": [
      "Hello,\n",
      " World\n"
     ]
    }
   ],
   "source": [
    "#3. What is the way to include backslash characters in a string?\n",
    "#ANS-->e.g.\n",
    "print('Hello,\\n World')"
   ]
  },
  {
   "cell_type": "code",
   "execution_count": 14,
   "id": "e1dfb29b",
   "metadata": {},
   "outputs": [],
   "source": [
    "#4. The string  \"How|'s Moving Castle\" is a correct value. Why isn't the single quote character in the\n",
    "#word How|'s not escaped a problem?\n",
    "#ANS--> YES its a problem because of syntax error"
   ]
  },
  {
   "cell_type": "code",
   "execution_count": 20,
   "id": "0963890c",
   "metadata": {},
   "outputs": [
    {
     "name": "stdout",
     "output_type": "stream",
     "text": [
      "hello\n",
      "welcome to shark tank\n"
     ]
    }
   ],
   "source": [
    "#5. How do you write a string of newlines if you don't want to use the n character?\n",
    "#ANS-->\n",
    "print(\"hello\")\n",
    "print(\"welcome to shark tank\")"
   ]
  },
  {
   "cell_type": "code",
   "execution_count": 28,
   "id": "1494e71d",
   "metadata": {},
   "outputs": [
    {
     "data": {
      "text/plain": [
       "'lo, world!'"
      ]
     },
     "execution_count": 28,
     "metadata": {},
     "output_type": "execute_result"
    }
   ],
   "source": [
    "#6. What are the values of the given expressions?\n",
    "#ANS-->'e','hello','hello','lo, world!'\n",
    "'hello, world!'[1]\n",
    "'hello, world!'[0:5]\n",
    "'hello, world!'[:5]\n",
    "'hello, world!'[3:]\n"
   ]
  },
  {
   "cell_type": "code",
   "execution_count": 31,
   "id": "de301607",
   "metadata": {},
   "outputs": [
    {
     "data": {
      "text/plain": [
       "'hello'"
      ]
     },
     "execution_count": 31,
     "metadata": {},
     "output_type": "execute_result"
    }
   ],
   "source": [
    "#7. What are the values of the following expressions?\n",
    "#ANS-->'HELLO',True,'hello'\n",
    "'Hello'.upper()\n",
    "'Hello'.upper().isupper()\n",
    "'Hello'.upper().lower()"
   ]
  },
  {
   "cell_type": "code",
   "execution_count": 33,
   "id": "47f65540",
   "metadata": {},
   "outputs": [
    {
     "data": {
      "text/plain": [
       "'There-can-only-one.'"
      ]
     },
     "execution_count": 33,
     "metadata": {},
     "output_type": "execute_result"
    }
   ],
   "source": [
    "#8. What are the values of the following expressions?\n",
    "#ANS-->  ['Remember,', 'remember,', 'the', 'fifth', 'of', 'July.']\n",
    "#        'There-can-only-one.'\n",
    "'Remember, remember, the fifth of July.'.split()\n",
    "'-'.join('There can only one.'.split())"
   ]
  },
  {
   "cell_type": "code",
   "execution_count": 34,
   "id": "bc6eb483",
   "metadata": {},
   "outputs": [],
   "source": [
    "#9. What are the methods for right-justifying, left-justifying, and centering a string?\n",
    "#ANS-->for right justifying-->ljust(), for left justifying-->rjust() and centering-->center()"
   ]
  },
  {
   "cell_type": "code",
   "execution_count": 35,
   "id": "a4b0ce97",
   "metadata": {},
   "outputs": [],
   "source": [
    "#10. What is the best way to remove whitespace characters from the start or end?\n",
    "#ANS-->we can Use the . strip() method "
   ]
  },
  {
   "cell_type": "code",
   "execution_count": null,
   "id": "f24d4a6c",
   "metadata": {},
   "outputs": [],
   "source": []
  }
 ],
 "metadata": {
  "kernelspec": {
   "display_name": "Python 3 (ipykernel)",
   "language": "python",
   "name": "python3"
  },
  "language_info": {
   "codemirror_mode": {
    "name": "ipython",
    "version": 3
   },
   "file_extension": ".py",
   "mimetype": "text/x-python",
   "name": "python",
   "nbconvert_exporter": "python",
   "pygments_lexer": "ipython3",
   "version": "3.9.13"
  }
 },
 "nbformat": 4,
 "nbformat_minor": 5
}
