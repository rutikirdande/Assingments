{
 "cells": [
  {
   "cell_type": "code",
   "execution_count": 1,
   "id": "27479d64",
   "metadata": {},
   "outputs": [
    {
     "name": "stdout",
     "output_type": "stream",
     "text": [
      "1 2 8\n"
     ]
    }
   ],
   "source": [
    "# 1. What is the result of the code, and why?\n",
    "# ANS-->\n",
    "\n",
    "def func(a, b=6, c=8):\n",
    "    print(a, b, c)\n",
    "func(1, 2)\n",
    "\n",
    "# This funtion is taking a positional argument and 2 keyward argument. When function call m=is made, parameter passed \n",
    "# are a=1,b=2. When the function is executed , parameter c=8 will be taken by default as its a keyword argument.\n",
    "# solution is = 1,2,8"
   ]
  },
  {
   "cell_type": "code",
   "execution_count": 4,
   "id": "5bcef7c2",
   "metadata": {},
   "outputs": [
    {
     "name": "stdout",
     "output_type": "stream",
     "text": [
      "1 2 3\n"
     ]
    }
   ],
   "source": [
    "# 2. What is the result of this code, and why?\n",
    "# ANS-->\n",
    "\n",
    "def func(a, b, c=5):\n",
    "    print(a, b, c)\n",
    "func(1, c=3, b=2)\n",
    "\n",
    "# When we make function call, order will be positional argument and then keywords arguments. we can pass the keyword arguments in any order we want.\n",
    "# Solution is 1,2,3\n",
    "     "
   ]
  },
  {
   "cell_type": "code",
   "execution_count": 11,
   "id": "75974855",
   "metadata": {},
   "outputs": [
    {
     "name": "stdout",
     "output_type": "stream",
     "text": [
      "1 (2, 3)\n"
     ]
    }
   ],
   "source": [
    "# 3. How about this code: what is its result, and why?\n",
    "# ANS-->\n",
    "\n",
    "def func(a, *pargs):\n",
    "    print(a, pargs)\n",
    "func(1, 2, 3)\n",
    "\n",
    "\n",
    "# The return type of *args parameter is tuple, where as **kargs will be dictionary\n",
    "# solution is = 1,(2,3)"
   ]
  },
  {
   "cell_type": "code",
   "execution_count": 12,
   "id": "4c9bbc3f",
   "metadata": {},
   "outputs": [
    {
     "name": "stdout",
     "output_type": "stream",
     "text": [
      "1 {'c': 3, 'b': 2}\n"
     ]
    }
   ],
   "source": [
    "# 4. What does this code print, and why?\n",
    "# ANS-->\n",
    "\n",
    "def func(a, **kargs):\n",
    "    print(a, kargs)\n",
    "func(a=1, c=3, b=2)\n",
    "\n",
    "\n",
    "# The return type of  **kargs is  dictionary\n",
    "# solution is = 1,{'c':3,'b':2}"
   ]
  },
  {
   "cell_type": "code",
   "execution_count": 14,
   "id": "268ef65e",
   "metadata": {},
   "outputs": [
    {
     "name": "stdout",
     "output_type": "stream",
     "text": [
      "1 5 6 5\n"
     ]
    }
   ],
   "source": [
    "# 5. What gets printed by this, and explain?\n",
    "# ANS-->\n",
    "\n",
    "def func(a, b, c=8, d=5): print(a, b, c, d)\n",
    "func(1, *(5, 6))\n",
    "\n",
    "# '*' is the unpacking operator and are operators that unpack the values from iterable objects in Python. The single \n",
    "# asterisk operator * can be used on any iterable that Python provides, while the double asterisk operator ** can only \n",
    "# be used on dictionaries. In the example the value *(5,6) will be unpacked and will be assigned to b and c and passed \n",
    "# as arguments, d =5 will taken by defaults are keyword arguments.\n"
   ]
  },
  {
   "cell_type": "code",
   "execution_count": 16,
   "id": "544b7460",
   "metadata": {},
   "outputs": [
    {
     "data": {
      "text/plain": [
       "(1, ['x'], {'a': 'y'})"
      ]
     },
     "execution_count": 16,
     "metadata": {},
     "output_type": "execute_result"
    }
   ],
   "source": [
    "# 6. what is the result of this, and explain?\n",
    "# ANS-->\n",
    "\n",
    "def func(a, b, c): \n",
    "    a = 2; b[0] = 'x'; c['a'] = 'y'\n",
    "    \n",
    "l=1; m=[1]; n={'a':0}\n",
    "func(l, m, n)\n",
    "\n",
    "l, m, n\n",
    "\n",
    "# Here in the code, the list and dict are passed as argument, and those are mutable. Here the list l and parameter b point \n",
    "# to the same list in the memory location where as dict n and c point to the same memory location. Any updates to this \n",
    "# list will update in the memory location\n",
    "\n",
    "# l = 1 , integer values, immutable, m is list, mutable, n is dict, mutable.\n",
    "# output will be = 1,['x'],{'a':'y'}"
   ]
  }
 ],
 "metadata": {
  "kernelspec": {
   "display_name": "Python 3 (ipykernel)",
   "language": "python",
   "name": "python3"
  },
  "language_info": {
   "codemirror_mode": {
    "name": "ipython",
    "version": 3
   },
   "file_extension": ".py",
   "mimetype": "text/x-python",
   "name": "python",
   "nbconvert_exporter": "python",
   "pygments_lexer": "ipython3",
   "version": "3.9.13"
  }
 },
 "nbformat": 4,
 "nbformat_minor": 5
}
