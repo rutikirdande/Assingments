{
 "cells": [
  {
   "cell_type": "raw",
   "id": "407f8a29",
   "metadata": {},
   "source": [
    "1. In what modes should the PdfFileReader() and PdfFileWriter() File objects will be opened?\n",
    "ANS-->\n",
    "PdfFileReader() needs to be opened in read-binary mode by passing 'rb' \n",
    "as the second argument to open(). Likewise, the File object passed to\n",
    "PyPDF2. PdfFileWriter() needs to be opened in write-binary mode with 'wb'."
   ]
  },
  {
   "cell_type": "raw",
   "id": "77da5658",
   "metadata": {},
   "source": [
    "2. From a PdfFileReader object, how do you get a Page object for page 5?\n",
    "ANS-->\n",
    "You can get a Page object by calling the getPage() method  on a PdfFileReader object and passing it the page number of the page you're interested in—in our case, 0."
   ]
  },
  {
   "cell_type": "raw",
   "id": "52714598",
   "metadata": {},
   "source": [
    "3. What PdfFileReader variable stores the number of pages in the PDF document?\n",
    "ANS-->\n",
    "The total number of pages in the document is stored in the numPages attribute of a PdfFileReader object"
   ]
  },
  {
   "cell_type": "raw",
   "id": "102c02e0",
   "metadata": {},
   "source": [
    "4. If a PdfFileReader object’s PDF is encrypted with the password swordfish, what must you do before you can obtain Page objects from it?\n",
    "ANS-->\n",
    "call decrypt('swordfish')"
   ]
  },
  {
   "cell_type": "raw",
   "id": "c04e5dac",
   "metadata": {},
   "source": [
    "5. What methods do you use to rotate a page?\n",
    "ANS-->\n",
    "The pages of a PDF can also be rotated in 90-degree increments with the rotateClockwise() and rotateCounterClockwise() methods. Pass one of the integers 90, 180, or 270 to these methods"
   ]
  },
  {
   "cell_type": "raw",
   "id": "07b7a248",
   "metadata": {},
   "source": [
    "6. What is the difference between a Run object and a Paragraph object?\n",
    "ANS-->\n",
    "new Paragraph objects can be added only to the end of the document, and new Run objects can be added only to the end of a Paragraph object. The save() method can be called again to save the additional changes you've made."
   ]
  },
  {
   "cell_type": "code",
   "execution_count": 6,
   "id": "7febe494",
   "metadata": {},
   "outputs": [],
   "source": [
    "# 7. How do you obtain a list of Paragraph objects for a Document object that’s stored in a variable\n",
    "# named doc?\n",
    "# ANS-->\n",
    "\n",
    "!pip install python-docx\n",
    "import docx\n",
    "doc = docx.Document('abc.docx')\n",
    "doc.paragraphs\n",
    "#By using doc.paragraphs"
   ]
  },
  {
   "cell_type": "raw",
   "id": "d022321e",
   "metadata": {},
   "source": [
    "8. What type of object has bold, underline, italic, strike, and outline variables?\n",
    "ANS-->\n",
    "A Run object has bold, underline,italic,strike and outline variables"
   ]
  },
  {
   "cell_type": "raw",
   "id": "3a12df2f",
   "metadata": {},
   "source": [
    "9. What is the difference between False, True, and None for the bold variable?\n",
    "ANS-->\n",
    "True (the attribute is always enabled, no matter what other styles are applied to the run),\n",
    "False (the attribute is always disabled),\n",
    "None (defaults to whatever the run’s style is set to)\n",
    "\n",
    "True always makes the Run object bolded and False makes it always not bolded, no matter what the style’s bold setting is. None will make the Run object just use the style’s bold setting"
   ]
  },
  {
   "cell_type": "raw",
   "id": "21b89761",
   "metadata": {},
   "source": [
    "10. How do you create a Document object for a new Word document?\n",
    "ANS-->\n",
    "By Calling the docx.Document() function."
   ]
  },
  {
   "cell_type": "code",
   "execution_count": 7,
   "id": "1e29a37d",
   "metadata": {},
   "outputs": [],
   "source": [
    "# 11. How do you add a paragraph with the text 'Hello, there!' to a Document object stored in a variable named doc?\n",
    "# ANS-->\n",
    "\n",
    "import docx\n",
    "doc = docx.Document()\n",
    "\n",
    "doc.add_paragraph('Hello there!')\n",
    "doc.save('hellothere.docx')"
   ]
  },
  {
   "cell_type": "raw",
   "id": "f14f35ae",
   "metadata": {},
   "source": [
    "12. What integers represent the levels of headings available in Word documents?\n",
    "ANS-->\n",
    "integer from 0 to 4\n",
    "The arguments to add_heading() are a string of the heading text and an integer from 0 to 4. The integer 0 makes the heading the Title style, which is used for the top of the document. Integers 1 to 4 are for various heading levels, with 1 being the main heading and 4 the lowest subheading"
   ]
  },
  {
   "cell_type": "code",
   "execution_count": null,
   "id": "a80fac6e",
   "metadata": {},
   "outputs": [],
   "source": []
  }
 ],
 "metadata": {
  "kernelspec": {
   "display_name": "Python 3 (ipykernel)",
   "language": "python",
   "name": "python3"
  },
  "language_info": {
   "codemirror_mode": {
    "name": "ipython",
    "version": 3
   },
   "file_extension": ".py",
   "mimetype": "text/x-python",
   "name": "python",
   "nbconvert_exporter": "python",
   "pygments_lexer": "ipython3",
   "version": "3.9.13"
  }
 },
 "nbformat": 4,
 "nbformat_minor": 5
}
