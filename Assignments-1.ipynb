{
 "cells": [
  {
   "cell_type": "code",
   "execution_count": 2,
   "id": "ea7cbda9",
   "metadata": {},
   "outputs": [],
   "source": [
    "# 1. In the below elements which of them are values or an expression? eg:- values can be\n",
    "# integer or string and expressions will be mathematical operators.\n",
    "# *\n",
    "# 'hello'\n",
    "# -87.8\n",
    "# -\n",
    "# /\n",
    "# +\n",
    "# 6  \n",
    "#ANS--> values=-87.8, 6\n",
    "#       expression='hello'"
   ]
  },
  {
   "cell_type": "code",
   "execution_count": 3,
   "id": "64be26a7",
   "metadata": {},
   "outputs": [],
   "source": [
    "# 2. What is the difference between string and variable?\n",
    "# ANS--> \n",
    "# A Variable is a store of information, and a String is a type of information you would store in a Variable. "
   ]
  },
  {
   "cell_type": "code",
   "execution_count": 4,
   "id": "dc056ba7",
   "metadata": {},
   "outputs": [],
   "source": [
    "# 3. Describe three different data types.\n",
    "# ANS-->1. Integer-Numeric data type for number without fractions, also used to store number without a fractional component.\n",
    "#       2. Floating point-It is also a numeric data type used to store numbers that may have a fractional component like monetary values do (707.07, 0.7, 707.00).\n",
    "#        3. String- string is sequence or an array of charecter and most commonly used data type to store test, we can store it in a single or double inverted commas."
   ]
  },
  {
   "cell_type": "code",
   "execution_count": 5,
   "id": "006dfcc0",
   "metadata": {},
   "outputs": [],
   "source": [
    "# 4. What is an expression made up of? \n",
    "#ANS-->What do all expressions do?An expression is a combination of operators, constants and variables. An expression may consist of one or more operands, and zero or more operators to produce a value\n"
   ]
  },
  {
   "cell_type": "code",
   "execution_count": 6,
   "id": "b6a6bb53",
   "metadata": {},
   "outputs": [],
   "source": [
    "# 5. This assignment statements, like spam = 10. What is the difference between an\n",
    "# expression and a statement?\n",
    "#ANS-->An expression evaluates to a single value. A statement does not."
   ]
  },
  {
   "cell_type": "code",
   "execution_count": 7,
   "id": "1eaac9fe",
   "metadata": {},
   "outputs": [],
   "source": [
    "# 6. After running the following code, what does the variable bacon contain?\n",
    "# bacon = 22\n",
    "# bacon + 1\n",
    "#ANS-->bacon contain same value that is 22."
   ]
  },
  {
   "cell_type": "code",
   "execution_count": null,
   "id": "8ce6c392",
   "metadata": {},
   "outputs": [],
   "source": [
    "# 7. What should the values of the following two terms be?\n",
    "# 'spam' + 'spamspam'\n",
    "# 'spam' * 3\n",
    "#ANS-->'spam'+'spamspam'='spamspamspam'\n",
    "# and 'spam' * 3='spamspamspam'"
   ]
  },
  {
   "cell_type": "code",
   "execution_count": 11,
   "id": "031b2cdf",
   "metadata": {},
   "outputs": [],
   "source": [
    "# 8. Why is eggs a valid variable name while 100 is invalid?\n",
    "#ANS-->Because a variable name cannot begin with a number."
   ]
  },
  {
   "cell_type": "code",
   "execution_count": 12,
   "id": "dec7aedc",
   "metadata": {},
   "outputs": [],
   "source": [
    "# The int() , float() , and str( ) functions will evaluate to the integer, floating-point number, and string versions of the value passed to them.\n",
    "#ANS-->The int() , float() , and str( ) functions will evaluate to the integer, floating-point number, and string versions of the value passed to them."
   ]
  },
  {
   "cell_type": "code",
   "execution_count": 14,
   "id": "caad6d84",
   "metadata": {},
   "outputs": [],
   "source": [
    "# 10. Why does this expression cause an error? How can you fix it?\n",
    "# 'I have eaten' + 99 + 'burritos.'\n",
    "#ANS-->Because it can only concatinate str not int type value, if we have to fix it so we have to put 99 in str type that is '99'."
   ]
  },
  {
   "cell_type": "code",
   "execution_count": null,
   "id": "6901e6f2",
   "metadata": {},
   "outputs": [],
   "source": []
  },
  {
   "cell_type": "code",
   "execution_count": null,
   "id": "330fe895",
   "metadata": {},
   "outputs": [],
   "source": []
  }
 ],
 "metadata": {
  "kernelspec": {
   "display_name": "Python 3 (ipykernel)",
   "language": "python",
   "name": "python3"
  },
  "language_info": {
   "codemirror_mode": {
    "name": "ipython",
    "version": 3
   },
   "file_extension": ".py",
   "mimetype": "text/x-python",
   "name": "python",
   "nbconvert_exporter": "python",
   "pygments_lexer": "ipython3",
   "version": "3.9.13"
  }
 },
 "nbformat": 4,
 "nbformat_minor": 5
}
