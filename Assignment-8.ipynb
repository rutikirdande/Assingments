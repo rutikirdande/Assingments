{
 "cells": [
  {
   "cell_type": "code",
   "execution_count": 1,
   "id": "49e948c7",
   "metadata": {},
   "outputs": [],
   "source": [
    "#1. Is the Python Standard Library included with PyInputPlus?\n",
    "#ANS-->PyInputPlus is not a part of the Python Standard Library, we must install it separately using Pip."
   ]
  },
  {
   "cell_type": "code",
   "execution_count": 2,
   "id": "e45a21ef",
   "metadata": {},
   "outputs": [],
   "source": [
    "#2. Why is PyInputPlus commonly imported with import pyinputplus as pypi?\n",
    "#ANS-->You can import the module with import pyinputplus as pyip so that you can enter a shorter name when calling the module's functions."
   ]
  },
  {
   "cell_type": "code",
   "execution_count": 3,
   "id": "e1691368",
   "metadata": {},
   "outputs": [],
   "source": [
    "#3. How do you distinguish between inputInt() and inputFloat()?\n",
    "#ANS-->inputint() accept integer values and inputfloat accept floating point numeric value."
   ]
  },
  {
   "cell_type": "code",
   "execution_count": 4,
   "id": "84cfe19c",
   "metadata": {},
   "outputs": [],
   "source": [
    "#4. Using PyInputPlus, how do you ensure that the user enters a whole number between 0 and 99?\n",
    "#ANS-->By using pyip. inputint(min=1, max=100) B."
   ]
  },
  {
   "cell_type": "code",
   "execution_count": 5,
   "id": "d230805b",
   "metadata": {},
   "outputs": [],
   "source": [
    "#5. What is transferred to the keyword arguments allowRegexes and blockRegexes?\n",
    "#ANS-->keyword arguments take a list of regular expression strings to determine what the PyInputPlus function will accept or reject as valid input."
   ]
  },
  {
   "cell_type": "code",
   "execution_count": 6,
   "id": "667f00fc",
   "metadata": {},
   "outputs": [],
   "source": [
    "#6. If a blank input is entered three times, what does inputStr(limit=3) do?\n",
    "#ANS-->It will throw RetryLimitException exception."
   ]
  },
  {
   "cell_type": "code",
   "execution_count": 7,
   "id": "10dc11a3",
   "metadata": {},
   "outputs": [],
   "source": [
    "#7. If blank input is entered three times, what does inputStr(limit=3, default='hello') do?\n",
    "#ANS-->The function will raise RetryLimitException."
   ]
  },
  {
   "cell_type": "code",
   "execution_count": null,
   "id": "5f31156e",
   "metadata": {},
   "outputs": [],
   "source": []
  }
 ],
 "metadata": {
  "kernelspec": {
   "display_name": "Python 3 (ipykernel)",
   "language": "python",
   "name": "python3"
  },
  "language_info": {
   "codemirror_mode": {
    "name": "ipython",
    "version": 3
   },
   "file_extension": ".py",
   "mimetype": "text/x-python",
   "name": "python",
   "nbconvert_exporter": "python",
   "pygments_lexer": "ipython3",
   "version": "3.9.13"
  }
 },
 "nbformat": 4,
 "nbformat_minor": 5
}
