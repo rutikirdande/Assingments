{
 "cells": [
  {
   "cell_type": "code",
   "execution_count": 2,
   "id": "a4585ac8",
   "metadata": {},
   "outputs": [],
   "source": [
    "# 1. Add the current date to the text file today.txt as a string.\n",
    "# ANS-->\n",
    "import datetime\n",
    "from datetime import date\n",
    "now = date.today()\n",
    "cur_date = now.isoformat()\n",
    "cur_date\n",
    "\n",
    "with open('today.txt','w') as file:\n",
    "    file.write(cur_date)"
   ]
  },
  {
   "cell_type": "code",
   "execution_count": 3,
   "id": "6433e8e7",
   "metadata": {},
   "outputs": [
    {
     "data": {
      "text/plain": [
       "'2023-03-24'"
      ]
     },
     "execution_count": 3,
     "metadata": {},
     "output_type": "execute_result"
    }
   ],
   "source": [
    "# 2. Read the text file today.txt into the string today_string\n",
    "# ANS-->\n",
    "with open('today.txt', 'r') as file:\n",
    "    today_string = file.read()\n",
    "    \n",
    "today_string"
   ]
  },
  {
   "cell_type": "code",
   "execution_count": 4,
   "id": "de753135",
   "metadata": {},
   "outputs": [
    {
     "data": {
      "text/plain": [
       "datetime.datetime(2023, 3, 24, 0, 0)"
      ]
     },
     "execution_count": 4,
     "metadata": {},
     "output_type": "execute_result"
    }
   ],
   "source": [
    "# 3. Parse the date from today_string.\n",
    "# ANS-->\n",
    "from datetime import datetime\n",
    "format = '%Y-%m-%d'\n",
    "datetime.strptime(today_string, format)"
   ]
  },
  {
   "cell_type": "code",
   "execution_count": 12,
   "id": "fdfa1773",
   "metadata": {
    "scrolled": true
   },
   "outputs": [
    {
     "data": {
      "text/plain": [
       "[' Decision Tree Classification.ipynb',\n",
       " '.bash_history',\n",
       " '.cache',\n",
       " '.conda',\n",
       " '.condarc',\n",
       " '.continuum',\n",
       " '.cufflinks',\n",
       " '.gitconfig',\n",
       " '.ipynb_checkpoints',\n",
       " '.ipython',\n",
       " '.jupyter',\n",
       " '.lesshst',\n",
       " '.matplotlib',\n",
       " '.spyder-py3',\n",
       " '.vscode',\n",
       " '3D Objects',\n",
       " '3rd Dec Live Class python exception handling.ipynb',\n",
       " 'advertising.csv',\n",
       " 'airfoil_self_noise.dat',\n",
       " 'Algerian_forest_fires_dataset_UPDATE.csv',\n",
       " 'anaconda3',\n",
       " 'app.py',\n",
       " 'AppData',\n",
       " 'Application Data',\n",
       " 'Assignment-10.ipynb',\n",
       " 'Assignment-11.ipynb',\n",
       " 'Assignment-12.ipynb',\n",
       " 'Assignment-13.ipynb',\n",
       " 'Assignment-14.ipynb',\n",
       " 'Assignment-15.ipynb',\n",
       " 'Assignment-16.ipynb',\n",
       " 'Assignment-17.ipynb',\n",
       " 'Assignment-18.ipynb',\n",
       " 'Assignment-19.ipynb',\n",
       " 'Assignment-2.ipynb',\n",
       " 'Assignment-20.ipynb',\n",
       " 'Assignment-21.ipynb',\n",
       " 'Assignment-3.ipynb',\n",
       " 'Assignment-4.ipynb',\n",
       " 'Assignment-5.ipynb',\n",
       " 'Assignment-6.ipynb',\n",
       " 'Assignment-8.ipynb',\n",
       " 'Assignment-9.ipynb',\n",
       " 'Assignments-1.ipynb',\n",
       " 'Assignmnet-7.ipynb',\n",
       " 'Autodesk',\n",
       " 'book.db',\n",
       " 'books.csv',\n",
       " 'books.db',\n",
       " 'books_read_proj',\n",
       " 'bostonhouse',\n",
       " 'bostonhousepricing',\n",
       " 'bostonhousepricing.ipynb',\n",
       " 'business-price-indexes-september-2022-quarter-csv.csv',\n",
       " 'classes and objects.ipynb',\n",
       " 'clean_google_platstore_data',\n",
       " 'Contacts',\n",
       " 'control flow statements and fucntion pracitce.ipynb',\n",
       " 'Cookies',\n",
       " 'Country-Code.xlsx',\n",
       " 'course overview.ipynb',\n",
       " 'courses.json.html',\n",
       " 'dashboard introduction-string % list.ipynb',\n",
       " 'Decision Tree Classification.ipynb',\n",
       " 'demo.log',\n",
       " 'Desktop',\n",
       " 'Distribution Statistics.ipynb',\n",
       " 'Documents',\n",
       " 'Doubts.ipynb',\n",
       " 'download.jpg',\n",
       " 'Downloads',\n",
       " 'EDA 1.ipynb',\n",
       " 'EDA.ipynb',\n",
       " 'Encapsulation.ipynb',\n",
       " 'example.ipynb',\n",
       " 'excel.xlsx',\n",
       " 'Favorites',\n",
       " 'fight price prediction.ipynb',\n",
       " 'file1.json',\n",
       " 'file2.json',\n",
       " 'file3.json',\n",
       " 'file4.json',\n",
       " 'file5.json',\n",
       " 'file_clas.log',\n",
       " 'Flask.ipynb',\n",
       " 'flight_price.xlsx',\n",
       " 'for else loop.ipynb',\n",
       " 'function - 3.ipynb',\n",
       " 'Function class-4.ipynb',\n",
       " 'git_demo',\n",
       " 'google.txt',\n",
       " 'graph.ipynb',\n",
       " 'hellothere.docx',\n",
       " 'https\\uf03a',\n",
       " 'https\\uf03agithub.com',\n",
       " 'Image scrapping.ipynb',\n",
       " 'import',\n",
       " 'ineuron.ipynb',\n",
       " 'Inheritance.ipynb',\n",
       " 'Introduction to Pandas.ipynb',\n",
       " 'iterator and generator.ipynb',\n",
       " 'Jedi',\n",
       " 'Lambda function.ipynb',\n",
       " 'linaer regression coding part-1 & part-2.ipynb',\n",
       " 'linear reg coding part-2.ipynb',\n",
       " 'linear_reg.sav',\n",
       " 'Links',\n",
       " 'Local Settings',\n",
       " 'logging and debugging.ipynb',\n",
       " 'Logistic Practical, SSVM, SVR.ipynb',\n",
       " 'MicrosoftEdgeBackups',\n",
       " 'ML Assignment-1.ipynb',\n",
       " 'model.pkl',\n",
       " 'MONGOdb.ipynb',\n",
       " 'Music',\n",
       " 'My Documents',\n",
       " 'Naive bais algorithm.ipynb',\n",
       " 'Naive Bayes Algorithm and practical implementation of Rigde Lasso and Logistic Regression.ipynb',\n",
       " 'NetHood',\n",
       " 'NTUSER.DAT',\n",
       " 'ntuser.dat.LOG1',\n",
       " 'ntuser.dat.LOG2',\n",
       " 'NTUSER.DAT{7530c65c-c034-11ed-8374-d983f9d59e04}.TM.blf',\n",
       " 'NTUSER.DAT{7530c65c-c034-11ed-8374-d983f9d59e04}.TMContainer00000000000000000001.regtrans-ms',\n",
       " 'NTUSER.DAT{7530c65c-c034-11ed-8374-d983f9d59e04}.TMContainer00000000000000000002.regtrans-ms',\n",
       " 'ntuser.ini',\n",
       " 'OneDrive',\n",
       " 'OOPS task solution.ipynb',\n",
       " 'OOPS.ipynb',\n",
       " 'operator, string method,control flow statement.ipynb',\n",
       " 'pandas day3.ipynb',\n",
       " 'pandas, numpy ad graph.ipynb',\n",
       " 'Pictures',\n",
       " 'Postman',\n",
       " 'PrintHood',\n",
       " 'Programming assignment-1.ipynb',\n",
       " 'Programming assignment-10.ipynb',\n",
       " 'Programming assignment-11.ipynb',\n",
       " 'Programming assignment-12.ipynb',\n",
       " 'Programming assignment-13.ipynb',\n",
       " 'Programming assignment-14.ipynb',\n",
       " 'Programming assignment-15.ipynb',\n",
       " 'Programming assignment-16.ipynb',\n",
       " 'Programming assignment-17.ipynb',\n",
       " 'Programming assignment-18.ipynb',\n",
       " 'Programming assignment-19.ipynb',\n",
       " 'Programming assignment-2.ipynb',\n",
       " 'Programming assignment-20.ipynb',\n",
       " 'Programming assignment-21.ipynb',\n",
       " 'Programming assignment-22.ipynb',\n",
       " 'Programming assignment-23.ipynb',\n",
       " 'Programming assignment-25.ipynb',\n",
       " 'Programming assignment-3.ipynb',\n",
       " 'Programming assignment-4.ipynb',\n",
       " 'Programming assignment-5.ipynb',\n",
       " 'Programming assignment-6.ipynb',\n",
       " 'Programming assignment-8.ipynb',\n",
       " 'Programming assignment-9.ipynb',\n",
       " 'Programming assignmnet-7.ipynb',\n",
       " 'Python Advanced assignment - 3.ipynb',\n",
       " 'Python Advanced assignment - 4.ipynb',\n",
       " 'Python advanced assignment-1.ipynb',\n",
       " 'Python Advanced assignment-2.ipynb',\n",
       " 'Random Forest SVM.ipynb',\n",
       " 'Recent',\n",
       " 'Regression and Classification Challange - iNeuron.ipynb',\n",
       " 'report.docs',\n",
       " 'Saved Games',\n",
       " 'seaborn-data',\n",
       " 'Searches',\n",
       " 'SendTo',\n",
       " 'spotify recommendation system.ipynb',\n",
       " 'Start Menu',\n",
       " 'Statastics by Sunny Sir.ipynb',\n",
       " 'Statistics revision - Sunny Sir.ipynb',\n",
       " 'statistics-1.ipynb',\n",
       " 'stats for python.ipynb',\n",
       " 'Templates',\n",
       " 'test.csv',\n",
       " 'test.png',\n",
       " 'test.txt',\n",
       " 'test1.txt',\n",
       " 'test111.txt',\n",
       " 'titanic.csv',\n",
       " 'today.txt',\n",
       " 'train.csv',\n",
       " 'tuples set, dict.ipynb',\n",
       " 'Untitled.ipynb',\n",
       " 'Untitled1.ipynb',\n",
       " 'Untitled2.ipynb',\n",
       " 'Untitled3.ipynb',\n",
       " 'Untitled4.ipynb',\n",
       " 'Untitled5.ipynb',\n",
       " 'Untitled6.ipynb',\n",
       " 'venv',\n",
       " 'Videos',\n",
       " 'web scrapping.ipynb',\n",
       " 'zomato.csv',\n",
       " '{pageProps{initialState{auth{isLogg.txt']"
      ]
     },
     "execution_count": 12,
     "metadata": {},
     "output_type": "execute_result"
    }
   ],
   "source": [
    "# 4. List the files in your current directory\n",
    "# ANS-->\n",
    "import os\n",
    "os.listdir('.')"
   ]
  },
  {
   "cell_type": "code",
   "execution_count": 17,
   "id": "15a3ff5b",
   "metadata": {},
   "outputs": [],
   "source": [
    "# 5. Create a list of all of the files in your parent directory (minimum five files should be available).\n",
    "# ANS-->\n",
    "import os\n",
    "path = \"C://Users//Rutik//Desktop\"\n",
    "dir_list = os.listdir(path)\n",
    "print(dir_list)"
   ]
  },
  {
   "cell_type": "code",
   "execution_count": 20,
   "id": "87390e55",
   "metadata": {},
   "outputs": [],
   "source": [
    "# 6. Use multiprocessing to create three separate processes. Make each one wait a random number of\n",
    "# seconds between one and five, print the current time, and then exit.\n",
    "# ANS-->\n",
    "import multiprocessing\n",
    "\n",
    "def printsec(seconds):\n",
    "    from datetime import datetime\n",
    "    from time import sleep\n",
    "    sleep(seconds)\n",
    "    print('wait', seconds, 'seconds, time is', datetime.utcnow())\n",
    "    \n",
    "if __name__ == '__main__':\n",
    "    import random    \n",
    "    for n in range(3):\n",
    "        seconds = random.random()\n",
    "        proc = multiprocessing.Process(target=printsec, args=(seconds,))\n",
    "        proc.start()\n",
    "!python abc.py     "
   ]
  },
  {
   "cell_type": "code",
   "execution_count": 24,
   "id": "417bbb10",
   "metadata": {},
   "outputs": [
    {
     "data": {
      "text/plain": [
       "datetime.date(2001, 7, 2)"
      ]
     },
     "execution_count": 24,
     "metadata": {},
     "output_type": "execute_result"
    }
   ],
   "source": [
    "# 7. Create a date object of your day of birth\n",
    "# ANS-->\n",
    "\n",
    "my_dob = date(2001, 7, 2)\n",
    "my_dob\n",
    "     "
   ]
  },
  {
   "cell_type": "code",
   "execution_count": 25,
   "id": "e5c607fe",
   "metadata": {},
   "outputs": [
    {
     "data": {
      "text/plain": [
       "0"
      ]
     },
     "execution_count": 25,
     "metadata": {},
     "output_type": "execute_result"
    }
   ],
   "source": [
    "# 8. What day of the week was your day of birth?\n",
    "# ANS-->\n",
    "my_dob.weekday()"
   ]
  },
  {
   "cell_type": "code",
   "execution_count": 26,
   "id": "2befb2a7",
   "metadata": {},
   "outputs": [
    {
     "data": {
      "text/plain": [
       "datetime.date(2028, 11, 17)"
      ]
     },
     "execution_count": 26,
     "metadata": {},
     "output_type": "execute_result"
    }
   ],
   "source": [
    "# 9. When will you be (or when were you) 10,000 days old?\n",
    "# ANS-->\n",
    "\n",
    "from datetime import timedelta\n",
    "day10000 = my_dob + timedelta(days=10000)\n",
    "day10000"
   ]
  }
 ],
 "metadata": {
  "kernelspec": {
   "display_name": "Python 3 (ipykernel)",
   "language": "python",
   "name": "python3"
  },
  "language_info": {
   "codemirror_mode": {
    "name": "ipython",
    "version": 3
   },
   "file_extension": ".py",
   "mimetype": "text/x-python",
   "name": "python",
   "nbconvert_exporter": "python",
   "pygments_lexer": "ipython3",
   "version": "3.9.13"
  }
 },
 "nbformat": 4,
 "nbformat_minor": 5
}
