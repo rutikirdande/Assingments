{
 "cells": [
  {
   "cell_type": "code",
   "execution_count": 1,
   "id": "35a6e491",
   "metadata": {},
   "outputs": [],
   "source": [
    "#1. To what does a relative path refer?\n",
    "#ANS-->A relative path is a way to specify the location of a directory relative to another directory"
   ]
  },
  {
   "cell_type": "code",
   "execution_count": 2,
   "id": "7537a69a",
   "metadata": {},
   "outputs": [],
   "source": [
    "#2. What does an absolute path start with your operating system?\n",
    "#ANS-->An absolute path is a path that contains the entire path to the file or directory that you need to access. This path will begin at the home directory of your computer and will end with the file or directory that you wish to access. "
   ]
  },
  {
   "cell_type": "code",
   "execution_count": 3,
   "id": "fb2f9d8f",
   "metadata": {},
   "outputs": [],
   "source": [
    "#3. What do the functions os.getcwd() and os.chdir() do?\n",
    "#ANS-->getcwd() : CWD stands for Current Working Directory. This function allows you to see what your current working directory is.\n",
    "#os.chdir() method in Python used to change the current working directory to specified path."
   ]
  },
  {
   "cell_type": "code",
   "execution_count": 4,
   "id": "1c327f67",
   "metadata": {},
   "outputs": [],
   "source": [
    "#4. What are the . and .. folders?\n",
    "#ANS-->"
   ]
  },
  {
   "cell_type": "code",
   "execution_count": 5,
   "id": "6a46a038",
   "metadata": {},
   "outputs": [],
   "source": [
    "#5. In C:\\bacon\\eggs\\spam. txt, which part is the dir name, and which part is the base name? C:\\bacon\\eggs is the dir name, while spam. txt is the base name.\n",
    "#ANS-->C:\\bacon\\eggs is the dir name, while spam. txt is the base name.\n"
   ]
  },
  {
   "cell_type": "code",
   "execution_count": 6,
   "id": "7936fa72",
   "metadata": {},
   "outputs": [],
   "source": [
    "#6. What are the three “mode” arguments that can be passed to the open() function?\n",
    "#ANS-->The string 'r' for read mode, 'w' for write mode, and 'a' for append mode"
   ]
  },
  {
   "cell_type": "code",
   "execution_count": 7,
   "id": "353cba06",
   "metadata": {},
   "outputs": [],
   "source": [
    "#7. What happens if an existing file is opened in write mode?\n",
    "#ANS-->An existing file opened in write mode is erased and completely overwritten"
   ]
  },
  {
   "cell_type": "code",
   "execution_count": null,
   "id": "53c1b461",
   "metadata": {},
   "outputs": [],
   "source": [
    "#8. How do you tell the difference between read() and readlines()?\n",
    "#ANS-->The read() will read the whole file at once and \n",
    "# then print out the first characters that take up as many bytes as you \n",
    "# specify in the parenthesis versus the readline() that will read and print\n",
    "# out only the first characters that take up as many bytes as you specify in\n",
    "# the parenthesis."
   ]
  },
  {
   "cell_type": "code",
   "execution_count": 8,
   "id": "ca344a4c",
   "metadata": {},
   "outputs": [],
   "source": [
    "#9. What data structure does a shelf value resemble?\n",
    "#ANS-->a dictionary value"
   ]
  }
 ],
 "metadata": {
  "kernelspec": {
   "display_name": "Python 3 (ipykernel)",
   "language": "python",
   "name": "python3"
  },
  "language_info": {
   "codemirror_mode": {
    "name": "ipython",
    "version": 3
   },
   "file_extension": ".py",
   "mimetype": "text/x-python",
   "name": "python",
   "nbconvert_exporter": "python",
   "pygments_lexer": "ipython3",
   "version": "3.9.13"
  }
 },
 "nbformat": 4,
 "nbformat_minor": 5
}
