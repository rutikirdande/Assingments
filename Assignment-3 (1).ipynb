{
 "cells": [
  {
   "cell_type": "raw",
   "id": "03359e05",
   "metadata": {},
   "source": [
    "1.Why are functions advantageous to have in your programs?\n",
    "ANS-->To reduce the need for duplicate code. "
   ]
  },
  {
   "cell_type": "raw",
   "id": "e011372c",
   "metadata": {},
   "source": [
    "2.When does the code in a function run: when its specified or when its called?\n",
    "ANS-->The code in a function executes when the function is called, not when the function is defined."
   ]
  },
  {
   "cell_type": "raw",
   "id": "dc55c122",
   "metadata": {},
   "source": [
    "3. What statement creates a function?\n",
    "ANS-->def function(): this statement create function"
   ]
  },
  {
   "cell_type": "raw",
   "id": "0a765d53",
   "metadata": {},
   "source": [
    "4. What is the difference between a function and a function call?\n",
    "ANS-->Function is block of code that does some operation, and \n",
    "A function call is the code used to pass control to a function."
   ]
  },
  {
   "cell_type": "raw",
   "id": "2a9b0159",
   "metadata": {},
   "source": [
    "5. How many global scopes are there in a Python program? How many local scopes?\n",
    "ANS--> The scope of global variables is the entire program whereas the scope of local \n",
    "variable is limited to the function where it is defined."
   ]
  },
  {
   "cell_type": "raw",
   "id": "4dbf101d",
   "metadata": {},
   "source": [
    "6. What happens to variables in a local scope when the function call returns?\n",
    "ANS-->Each call of the function creates new local variables, and their lifetimes\n",
    "expire when the function returns to the caller."
   ]
  },
  {
   "cell_type": "raw",
   "id": "a4d4f396",
   "metadata": {},
   "source": [
    "7. What is the concept of a return value? Is it possible to have a return value in an expression?\n",
    "ANS-->A return is a value that a function returns to the calling script or function when it completes its task. \n",
    " we can use that value in a math expression or any other kind of expression in which the value has a logical or\n",
    "coherent meaning."
   ]
  },
  {
   "cell_type": "raw",
   "id": "4ebc2677",
   "metadata": {},
   "source": [
    "8. If a function does not have a return statement, what is the return value of a call to that function?\n",
    "ANS-->If the function doesn't have any return statement, then it returns None\n",
    "or it will return a default value"
   ]
  },
  {
   "cell_type": "raw",
   "id": "238340fe",
   "metadata": {},
   "source": [
    "9. How do you make a function variable refer to the global variable?\n",
    "ANS-->By using global keyword\n",
    "eg:\n",
    "     def func():\n",
    "        global a\n",
    "        a = \"RUTIK\"\n",
    "        print(\"my name is \" + a)"
   ]
  },
  {
   "cell_type": "raw",
   "id": "a7485970",
   "metadata": {},
   "source": [
    "10. What is the data type of None?\n",
    "#ANS-->\n",
    "type(None)"
   ]
  },
  {
   "cell_type": "raw",
   "id": "2985d334",
   "metadata": {},
   "source": [
    "11. What does the sentence import areallyourpetsnamederic do?\n",
    "ANS-->Give No module Error"
   ]
  },
  {
   "cell_type": "raw",
   "id": "b39e6f63",
   "metadata": {},
   "source": [
    "12. If you had a bacon() feature in a spam module, what would you call it after importing spam?\n",
    "ANS-->This function can be called with spam. bacon()."
   ]
  },
  {
   "cell_type": "raw",
   "id": "cb38bab6",
   "metadata": {},
   "source": [
    "13. What can you do to save a programme from crashing if it encounters an error?\n",
    "ANS-->Debugging by try and except code."
   ]
  },
  {
   "cell_type": "raw",
   "id": "1d305851",
   "metadata": {},
   "source": [
    "14. What is the purpose of the try clause? What is the purpose of the except clause?\n",
    "ANS-->try clause test the code block and except clause help to handle the error."
   ]
  }
 ],
 "metadata": {
  "kernelspec": {
   "display_name": "Python 3 (ipykernel)",
   "language": "python",
   "name": "python3"
  },
  "language_info": {
   "codemirror_mode": {
    "name": "ipython",
    "version": 3
   },
   "file_extension": ".py",
   "mimetype": "text/x-python",
   "name": "python",
   "nbconvert_exporter": "python",
   "pygments_lexer": "ipython3",
   "version": "3.9.13"
  }
 },
 "nbformat": 4,
 "nbformat_minor": 5
}
