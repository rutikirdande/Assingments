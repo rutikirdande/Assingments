{
 "cells": [
  {
   "cell_type": "code",
   "execution_count": 5,
   "id": "6df7a3f6",
   "metadata": {},
   "outputs": [
    {
     "name": "stdout",
     "output_type": "stream",
     "text": [
      "False\n",
      "True\n"
     ]
    }
   ],
   "source": [
    "# 1.What are the two values of the Boolean data type? How do you write them?\n",
    "#ANS-->1.the first value of boolean data type is 1, i.e. value of True.\n",
    "#      2.the second value of boolean data type is 0, i.e. value of False.\n",
    "b=True\n",
    "a=False\n",
    "print(a)\n",
    "print(b)"
   ]
  },
  {
   "cell_type": "raw",
   "id": "427ba659",
   "metadata": {},
   "source": [
    "# 2. What are the three different types of Boolean operators?\n",
    "#ANS--<The three basic boolean operators are: AND, OR, and NOT."
   ]
  },
  {
   "cell_type": "raw",
   "id": "f532ee5e",
   "metadata": {},
   "source": [
    "# 3. Make a list of each Boolean operators truth tables (i.e. every possible combination of Boolean\n",
    "# values for the operator and what it evaluate ).\n",
    "#ANS-->>True and True is True.\n",
    "\n",
    "True and False is False.\n",
    "\n",
    "False and True is False.\n",
    "\n",
    "False and False is False.\n",
    "\n",
    "True or True is True.\n",
    "\n",
    "True or False is True.\n",
    "\n",
    "False or True is True.\n",
    "\n",
    "False or False is False.\n",
    "\n",
    "not True is False.\n",
    "\n",
    "not False is True."
   ]
  },
  {
   "cell_type": "code",
   "execution_count": 6,
   "id": "66f9c527",
   "metadata": {},
   "outputs": [
    {
     "name": "stdout",
     "output_type": "stream",
     "text": [
      "False\n",
      "False\n",
      "True\n",
      "False\n",
      "False\n",
      "True\n"
     ]
    }
   ],
   "source": [
    "# 4. What are the values of the following expressions?\n",
    "print((5>4) and (3==5))\n",
    "print(not(5>4))\n",
    "print((5>4) or (3==5))\n",
    "print(not(5>4) or (3==5))\n",
    "print((True and True) and (True==False))\n",
    "print((not(False))or(not(True)))"
   ]
  },
  {
   "cell_type": "raw",
   "id": "49ffbd62",
   "metadata": {},
   "source": [
    "5. What are the six comparison operators?\n",
    "ANS--> ==, !=, <, >, <=, and >="
   ]
  },
  {
   "cell_type": "code",
   "execution_count": 7,
   "id": "d7386ad1",
   "metadata": {},
   "outputs": [
    {
     "name": "stdout",
     "output_type": "stream",
     "text": [
      "True\n",
      "a = 1\n"
     ]
    }
   ],
   "source": [
    "# 6. How do you tell the difference between the equal to and assignment operators?Describe a condition and when you would use one.\n",
    "# Equal To Operator\n",
    "if(3==3):\n",
    "    print(\"True\")\n",
    "else:\n",
    "    print(\"False\")\n",
    "# Assignment operator\n",
    "a=1 #here we have used assignment operator(=) to assign value of c which is 1\n",
    "print(\"a =\",a)"
   ]
  },
  {
   "cell_type": "raw",
   "id": "6992a2a8",
   "metadata": {},
   "source": [
    "# 7. Identify the three blocks in this code:\n",
    "if spam == 10:\n",
    "print('eggs')\n",
    "if spam > 5:\n",
    "print('bacon')\n",
    "else:\n",
    "print('ham')\n",
    "print('spam')\n",
    "print('spam')\n",
    "# 1.indentation block at first if condtion\n",
    "# 2.indentation block at second if condtion\n",
    "# 3.indentation block at third else condtion"
   ]
  },
  {
   "cell_type": "code",
   "execution_count": 8,
   "id": "9902242c",
   "metadata": {},
   "outputs": [
    {
     "name": "stdout",
     "output_type": "stream",
     "text": [
      "ham\n",
      "spam\n",
      "spam\n"
     ]
    }
   ],
   "source": [
    "spam = 0\n",
    "if spam == 10:\n",
    "    print('eggs')\n",
    "if spam > 5:\n",
    "    print('bacon')\n",
    "else:\n",
    "    print('ham')\n",
    "    print('spam')\n",
    "    print('spam')"
   ]
  },
  {
   "cell_type": "code",
   "execution_count": 9,
   "id": "c7ca7118",
   "metadata": {},
   "outputs": [
    {
     "name": "stdout",
     "output_type": "stream",
     "text": [
      "Greetings!\n"
     ]
    }
   ],
   "source": [
    "# 8. Write code that prints Hello if 1 is stored in spam, prints Howdy if 2 is stored in spam, and prints\n",
    "# Greetings! if anything else is stored in spam.\n",
    "if spam == 1:\n",
    "    print('hello')\n",
    "if spam == 2:\n",
    "    print('howdy')\n",
    "else:\n",
    "    print('Greetings!')"
   ]
  },
  {
   "cell_type": "code",
   "execution_count": 10,
   "id": "e8268ee5",
   "metadata": {},
   "outputs": [],
   "source": [
    "# 9.If your programme is stuck in an endless loop, what keys you’ll press?\n",
    "#ANS-->CTRL+C"
   ]
  },
  {
   "cell_type": "code",
   "execution_count": 11,
   "id": "2ff25985",
   "metadata": {},
   "outputs": [],
   "source": [
    "# 10. How can you tell the difference between break and continue?\n",
    "#ANS-->Break: A break statement in Python alters the flow of a loop by terminating it once a specified condition is met. \n",
    "#      Continue: The continue statement in Python is used to skip the remaining code inside a loop for the current iteration only.>"
   ]
  },
  {
   "cell_type": "code",
   "execution_count": 12,
   "id": "e44dbe1b",
   "metadata": {},
   "outputs": [],
   "source": [
    "# 11. In a for loop, what is the difference between range(10), range(0, 10), and range(0, 10, 1)?\n",
    "#ANS-->in first range there only start point is given i.e from where to start ranging \n",
    "#      in second range there are starting and ending point is given.\n",
    "#      in third range there are starting whereas ending whereas jump point also given."
   ]
  },
  {
   "cell_type": "code",
   "execution_count": 13,
   "id": "9f6d1379",
   "metadata": {},
   "outputs": [
    {
     "name": "stdout",
     "output_type": "stream",
     "text": [
      "1\n",
      "2\n",
      "3\n",
      "4\n",
      "5\n",
      "6\n",
      "7\n",
      "8\n",
      "9\n",
      "10\n"
     ]
    }
   ],
   "source": [
    "# 12. Write a short program that prints the numbers 1 to 10 using a for loop. Then write an equivalent\n",
    "#  program that prints the numbers 1 to 10 using a while loop.\n",
    "#ANS-->\n",
    "for i in range(1, 11):\n",
    "    print(i)\n",
    "    \n"
   ]
  },
  {
   "cell_type": "code",
   "execution_count": 14,
   "id": "e5354b19",
   "metadata": {},
   "outputs": [
    {
     "name": "stdout",
     "output_type": "stream",
     "text": [
      "1\n",
      "2\n",
      "3\n",
      "4\n",
      "5\n",
      "6\n",
      "7\n",
      "8\n",
      "9\n",
      "10\n"
     ]
    }
   ],
   "source": [
    "i = 1\n",
    "while(i<=10):\n",
    "    print(i)\n",
    "    i += 1\n",
    "    "
   ]
  },
  {
   "cell_type": "code",
   "execution_count": 15,
   "id": "39f8ed1c",
   "metadata": {},
   "outputs": [],
   "source": [
    "# 13. If you had a function named bacon() inside a module named spam, how would you call it after\n",
    "# importing spam?\n",
    "#ANS-->this function can be called by spam.bacon()"
   ]
  },
  {
   "cell_type": "code",
   "execution_count": null,
   "id": "f2d607e2",
   "metadata": {},
   "outputs": [],
   "source": []
  },
  {
   "cell_type": "code",
   "execution_count": null,
   "id": "f4034aba",
   "metadata": {},
   "outputs": [],
   "source": []
  }
 ],
 "metadata": {
  "kernelspec": {
   "display_name": "Python 3 (ipykernel)",
   "language": "python",
   "name": "python3"
  },
  "language_info": {
   "codemirror_mode": {
    "name": "ipython",
    "version": 3
   },
   "file_extension": ".py",
   "mimetype": "text/x-python",
   "name": "python",
   "nbconvert_exporter": "python",
   "pygments_lexer": "ipython3",
   "version": "3.9.13"
  }
 },
 "nbformat": 4,
 "nbformat_minor": 5
}
